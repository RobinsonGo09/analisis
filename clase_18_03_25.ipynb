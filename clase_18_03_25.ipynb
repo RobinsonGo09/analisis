{
 "cells": [
  {
   "cell_type": "code",
   "execution_count": 1,
   "id": "e0b8a16e-654b-46d8-b24e-6c83e41202f9",
   "metadata": {},
   "outputs": [],
   "source": [
    "import pandas as pd\n",
    "from sklearn.preprocessing import StandardScaler"
   ]
  },
  {
   "cell_type": "code",
   "execution_count": 11,
   "id": "f7e0a550-91fa-4073-922e-8904f9eec607",
   "metadata": {},
   "outputs": [],
   "source": [
    "# Cargar datos desde un archivo CSV\n",
    "def cargar_datos(ruta):\n",
    "    return pd.read_csv(ruta)"
   ]
  },
  {
   "cell_type": "code",
   "execution_count": 12,
   "id": "0229ea63-8fb5-456d-96a6-191e654bf4a5",
   "metadata": {},
   "outputs": [],
   "source": [
    "# Explorar los datos\n",
    "def explorar_datos(df):\n",
    "    print(df.head())\n",
    "    print(df.info())\n",
    "    print(df.describe())"
   ]
  },
  {
   "cell_type": "code",
   "execution_count": 13,
   "id": "26842727-ca7d-4826-ad66-843987940928",
   "metadata": {},
   "outputs": [],
   "source": [
    "# Manejar valores nulos\n",
    "def manejar_valores_nulos(df, metodo=\"eliminar\", valor_reemplazo=0):\n",
    "    if metodo == \"eliminar\":\n",
    "        df.dropna(inplace=True)\n",
    "    elif metodo == \"reemplazar\":\n",
    "        df.fillna(valor_reemplazo, inplace=True)  # Corregido el nombre del parámetro\n",
    "    return df"
   ]
  },
  {
   "cell_type": "code",
   "execution_count": 15,
   "id": "04ae232a-9244-41f9-b0f4-7299b6477337",
   "metadata": {},
   "outputs": [],
   "source": [
    "# Eliminar duplicados\n",
    "def eliminar_duplicados(df):\n",
    "    df.drop_duplicates(inplace=True)\n",
    "    return df"
   ]
  },
  {
   "cell_type": "code",
   "execution_count": 17,
   "id": "7ca76dfb-d2c4-4ade-ba44-dcaf5c16d85c",
   "metadata": {},
   "outputs": [],
   "source": [
    "# Convertir tipos de datos\n",
    "def convertir_tipos(df, columna, tipo_dato):\n",
    "    df[columna] = df[columna].astype(tipo_dato)\n",
    "    return df"
   ]
  },
  {
   "cell_type": "code",
   "execution_count": 18,
   "id": "0c870bf3-1124-4f11-8dae-a4f75d6d67a8",
   "metadata": {},
   "outputs": [],
   "source": [
    "# Normalizar datos\n",
    "def normaliza_datos(df, columnas):\n",
    "    scaler = StandardScaler()\n",
    "    df[columnas] = scaler.fit_transform(df[columnas])\n",
    "    return df"
   ]
  },
  {
   "cell_type": "code",
   "execution_count": 20,
   "id": "7ba95808-f7f5-46a6-bb6a-7f91f6c85a47",
   "metadata": {},
   "outputs": [],
   "source": [
    "# Guardar datos en un CSV\n",
    "def guardar_datos(df, ruta):\n",
    "    df.to_csv(ruta, index=False)"
   ]
  },
  {
   "cell_type": "code",
   "execution_count": 21,
   "id": "9978f3b9-e7f3-45da-b9b9-c73956bec78b",
   "metadata": {},
   "outputs": [],
   "source": [
    "# Función principal\n",
    "def main():\n",
    "    ruta_entrada = \"C:/Users/Usuario/Desktop/Analisis_Robinson/ventas_con_errores.csv\"\n",
    "    ruta_salida = \"C:/Users/Usuario/Desktop/Analisis_Robinson/ventas_limpias.csv\"\n",
    "\n",
    "    df = cargar_datos(ruta_entrada)  # Ahora sí existe la función\n",
    "    explorar_datos(df)\n",
    "    \n",
    "    df = manejar_valores_nulos(df, metodo=\"reemplazar\", valor_reemplazo=0)\n",
    "    df = eliminar_duplicados(df)\n",
    "    df = convertir_tipos(df, \"Cantidad\", \"int\")\n",
    "\n",
    "    columnas_a_normalizar = [\"Cantidad\", \"Precio Unitario\", \"Descuento (%)\", \"Total\"]\n",
    "    df = normaliza_datos(df, columnas_a_normalizar)\n",
    "\n",
    "    guardar_datos(df, ruta_salida)  # Guarda correctamente el archivo en la ruta local\n"
   ]
  },
  {
   "cell_type": "code",
   "execution_count": 22,
   "id": "f0049ef1-890b-4391-96c9-72a9e0f27c97",
   "metadata": {},
   "outputs": [
    {
     "name": "stdout",
     "output_type": "stream",
     "text": [
      "   ID       Fecha    Producto  Cantidad  Precio Unitario  Descuento (%)  Total\n",
      "0   1  2022-01-01  Producto C       NaN              NaN           10.0   41.5\n",
      "1   2  2022-01-02  Producto A       2.0              NaN            0.0   41.5\n",
      "2   3  2022-01-03  Producto A       NaN             30.0            0.0   90.0\n",
      "3   4  2022-01-04  Producto C       NaN             10.5           10.0   90.0\n",
      "4   5  2022-01-05  Producto B       NaN             10.5            NaN   90.0\n",
      "<class 'pandas.core.frame.DataFrame'>\n",
      "RangeIndex: 1000 entries, 0 to 999\n",
      "Data columns (total 7 columns):\n",
      " #   Column           Non-Null Count  Dtype  \n",
      "---  ------           --------------  -----  \n",
      " 0   ID               1000 non-null   int64  \n",
      " 1   Fecha            990 non-null    object \n",
      " 2   Producto         1000 non-null   object \n",
      " 3   Cantidad         738 non-null    float64\n",
      " 4   Precio Unitario  732 non-null    float64\n",
      " 5   Descuento (%)    755 non-null    float64\n",
      " 6   Total            754 non-null    float64\n",
      "dtypes: float64(4), int64(1), object(2)\n",
      "memory usage: 54.8+ KB\n",
      "None\n",
      "                ID    Cantidad  Precio Unitario  Descuento (%)       Total\n",
      "count  1000.000000  738.000000       732.000000     755.000000  754.000000\n",
      "mean    500.500000    2.031165        20.567964       4.933775   48.011936\n",
      "std     288.819436    0.832093         7.907970       4.103548   32.496335\n",
      "min       1.000000    1.000000        10.500000       0.000000   10.500000\n",
      "25%     250.750000    1.000000        10.500000       0.000000   10.500000\n",
      "50%     500.500000    2.000000        20.750000       5.000000   41.500000\n",
      "75%     750.250000    3.000000        30.000000      10.000000   90.000000\n",
      "max    1000.000000    3.000000        30.000000      10.000000   90.000000\n"
     ]
    }
   ],
   "source": [
    "# Ejecutar el programa\n",
    "main()"
   ]
  }
 ],
 "metadata": {
  "kernelspec": {
   "display_name": "Python 3 (ipykernel)",
   "language": "python",
   "name": "python3"
  },
  "language_info": {
   "codemirror_mode": {
    "name": "ipython",
    "version": 3
   },
   "file_extension": ".py",
   "mimetype": "text/x-python",
   "name": "python",
   "nbconvert_exporter": "python",
   "pygments_lexer": "ipython3",
   "version": "3.11.11"
  }
 },
 "nbformat": 4,
 "nbformat_minor": 5
}
