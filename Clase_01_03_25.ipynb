{
 "cells": [
  {
   "cell_type": "code",
   "execution_count": 2,
   "id": "0493a68c-f9a2-4df0-95d1-75581936fe71",
   "metadata": {},
   "outputs": [
    {
     "name": "stdout",
     "output_type": "stream",
     "text": [
      "  producto  Precio  Cantidad\n",
      "0        A      10         5\n",
      "1        B      20         3\n",
      "2        C      30         8\n",
      "3        D      40         2\n"
     ]
    }
   ],
   "source": [
    "import pandas as pd\n",
    "df1=pd.DataFrame({\"producto\":[\"A\",\"B\",\"C\",\"D\"],\n",
    "                  \"Precio\":[10,20,30,40]})\n",
    "df2=pd.DataFrame({\"producto\":[\"A\",\"B\",\"C\",\"D\"],\n",
    "                  \"Cantidad\":[5,3,8,2]})\n",
    "\n",
    "df_final=pd.merge(df1,df2, on=\"producto\")\n",
    "\n",
    "print(df_final)"
   ]
  },
  {
   "cell_type": "code",
   "execution_count": 3,
   "id": "875a88c6-5462-4167-a7af-c630209d4465",
   "metadata": {},
   "outputs": [],
   "source": [
    "df_final[\"Total\"]=df_final[\"Precio\"]*df_final[\"Cantidad\"]"
   ]
  },
  {
   "cell_type": "code",
   "execution_count": 4,
   "id": "6d4ffe56-5311-4f0d-afaf-61a307175124",
   "metadata": {},
   "outputs": [
    {
     "name": "stdout",
     "output_type": "stream",
     "text": [
      "  producto  Precio  Cantidad  Total\n",
      "0        A      10         5     50\n",
      "1        B      20         3     60\n",
      "2        C      30         8    240\n",
      "3        D      40         2     80\n"
     ]
    }
   ],
   "source": [
    "print(df_final)"
   ]
  }
 ],
 "metadata": {
  "kernelspec": {
   "display_name": "Python 3 (ipykernel)",
   "language": "python",
   "name": "python3"
  },
  "language_info": {
   "codemirror_mode": {
    "name": "ipython",
    "version": 3
   },
   "file_extension": ".py",
   "mimetype": "text/x-python",
   "name": "python",
   "nbconvert_exporter": "python",
   "pygments_lexer": "ipython3",
   "version": "3.11.11"
  }
 },
 "nbformat": 4,
 "nbformat_minor": 5
}
