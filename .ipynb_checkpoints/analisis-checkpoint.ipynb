{
 "cells": [
  {
   "cell_type": "code",
   "execution_count": 2,
   "id": "0c05acc9-07e4-41be-b7ad-b11be13f8929",
   "metadata": {},
   "outputs": [],
   "source": [
    "import pandas as pd\n",
    "import numpy as np"
   ]
  },
  {
   "cell_type": "code",
   "execution_count": 4,
   "id": "4aae855b-d124-4dac-abf1-456f660b2d15",
   "metadata": {},
   "outputs": [],
   "source": [
    "df=pd.read_excel(\"C:/Users/Usuario/Desktop/Analisis_Robinson/Dataset_Ventas_Erroneas_1000.xlsx\")"
   ]
  },
  {
   "cell_type": "code",
   "execution_count": 5,
   "id": "c9964914-1d14-406c-8fb3-affbf5577f39",
   "metadata": {},
   "outputs": [
    {
     "data": {
      "text/html": [
       "<div>\n",
       "<style scoped>\n",
       "    .dataframe tbody tr th:only-of-type {\n",
       "        vertical-align: middle;\n",
       "    }\n",
       "\n",
       "    .dataframe tbody tr th {\n",
       "        vertical-align: top;\n",
       "    }\n",
       "\n",
       "    .dataframe thead th {\n",
       "        text-align: right;\n",
       "    }\n",
       "</style>\n",
       "<table border=\"1\" class=\"dataframe\">\n",
       "  <thead>\n",
       "    <tr style=\"text-align: right;\">\n",
       "      <th></th>\n",
       "      <th>Fecha</th>\n",
       "      <th>Sucursal</th>\n",
       "      <th>Producto</th>\n",
       "      <th>Precio</th>\n",
       "      <th>Cantidad</th>\n",
       "      <th>Ventas</th>\n",
       "    </tr>\n",
       "  </thead>\n",
       "  <tbody>\n",
       "    <tr>\n",
       "      <th>0</th>\n",
       "      <td>INVALID_DATE</td>\n",
       "      <td>NaN</td>\n",
       "      <td>NaN</td>\n",
       "      <td>NaN</td>\n",
       "      <td>NaN</td>\n",
       "      <td>1217.62</td>\n",
       "    </tr>\n",
       "    <tr>\n",
       "      <th>1</th>\n",
       "      <td>2024-01-24</td>\n",
       "      <td>Sucursal_C</td>\n",
       "      <td>A</td>\n",
       "      <td>-34.59</td>\n",
       "      <td>10</td>\n",
       "      <td>1602.73</td>\n",
       "    </tr>\n",
       "    <tr>\n",
       "      <th>2</th>\n",
       "      <td>2024-05-08</td>\n",
       "      <td>Sucursal_C</td>\n",
       "      <td>D</td>\n",
       "      <td>22.02</td>\n",
       "      <td>2</td>\n",
       "      <td>64.68</td>\n",
       "    </tr>\n",
       "    <tr>\n",
       "      <th>3</th>\n",
       "      <td>2024-04-05</td>\n",
       "      <td>Sucursal_B</td>\n",
       "      <td>C</td>\n",
       "      <td>63.38</td>\n",
       "      <td>6</td>\n",
       "      <td>518.21</td>\n",
       "    </tr>\n",
       "    <tr>\n",
       "      <th>4</th>\n",
       "      <td>2024-12-04</td>\n",
       "      <td>Sucursal_D</td>\n",
       "      <td>A</td>\n",
       "      <td>1.02</td>\n",
       "      <td>MISSING</td>\n",
       "      <td>1962.41</td>\n",
       "    </tr>\n",
       "  </tbody>\n",
       "</table>\n",
       "</div>"
      ],
      "text/plain": [
       "          Fecha    Sucursal Producto Precio Cantidad   Ventas\n",
       "0  INVALID_DATE         NaN      NaN    NaN      NaN  1217.62\n",
       "1    2024-01-24  Sucursal_C        A -34.59       10  1602.73\n",
       "2    2024-05-08  Sucursal_C        D  22.02        2    64.68\n",
       "3    2024-04-05  Sucursal_B        C  63.38        6   518.21\n",
       "4    2024-12-04  Sucursal_D        A   1.02  MISSING  1962.41"
      ]
     },
     "execution_count": 5,
     "metadata": {},
     "output_type": "execute_result"
    }
   ],
   "source": [
    "df.head(5)"
   ]
  }
 ],
 "metadata": {
  "kernelspec": {
   "display_name": "Python 3 (ipykernel)",
   "language": "python",
   "name": "python3"
  },
  "language_info": {
   "codemirror_mode": {
    "name": "ipython",
    "version": 3
   },
   "file_extension": ".py",
   "mimetype": "text/x-python",
   "name": "python",
   "nbconvert_exporter": "python",
   "pygments_lexer": "ipython3",
   "version": "3.11.11"
  }
 },
 "nbformat": 4,
 "nbformat_minor": 5
}
